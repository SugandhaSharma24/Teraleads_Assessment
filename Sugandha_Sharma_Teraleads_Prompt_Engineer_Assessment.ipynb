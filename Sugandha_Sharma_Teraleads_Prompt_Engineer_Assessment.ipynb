{
  "nbformat": 4,
  "nbformat_minor": 0,
  "metadata": {
    "colab": {
      "provenance": []
    },
    "kernelspec": {
      "name": "python3",
      "display_name": "Python 3"
    },
    "language_info": {
      "name": "python"
    }
  },
  "cells": [
    {
      "cell_type": "code",
      "source": [
        "import json\n",
        "\n",
        "# Hardcoded JSON string containing 3 appointments\n",
        "appointments_json = '''\n",
        "[\n",
        "    {\n",
        "        \"name\": \"Riya\",\n",
        "        \"date\": \"2025-04-20\",\n",
        "        \"time\": \"10:00 AM\"\n",
        "    },\n",
        "    {\n",
        "        \"name\": \"Sam\",\n",
        "        \"date\": \"2025-04-21\",\n",
        "        \"time\": \"2:30 PM\"\n",
        "    },\n",
        "    {\n",
        "        \"name\": \"Aisha\",\n",
        "        \"date\": \"2025-04-22\",\n",
        "        \"time\": \"4:00 PM\"\n",
        "    }\n",
        "]\n",
        "'''\n",
        "\n",
        "# Convert the JSON string to a Python list of dictionaries\n",
        "\n",
        "appointments = json.loads(appointments_json)\n",
        "\n",
        "# Function to generate a basic reminder message with simulated voice annotations\n",
        "\n",
        "def generate_reminder(appointment):\n",
        "    name = appointment[\"name\"]\n",
        "    date = appointment[\"date\"]\n",
        "    time = appointment[\"time\"]\n",
        "\n",
        "    # Message with placeholder tone and pause notes\n",
        "    message = (\n",
        "        f\"<friendly tone> Hey {name}, <pause> \"\n",
        "        f\"just a quick reminder about your appointment on {date} at {time}. \"\n",
        "        f\"<pause> Let us know if you need to reschedule!\"\n",
        "    )\n",
        "    return message\n",
        "\n",
        "# Function to generate an SSML-ready version of the reminder message\n",
        "\n",
        "def generate_ssml_reminder(appointment):\n",
        "    name = appointment[\"name\"]\n",
        "    date = appointment[\"date\"]\n",
        "    time = appointment[\"time\"]\n",
        "\n",
        "    ssml_message = f\"\"\"\n",
        "    <speak>\n",
        "        <prosody rate=\"medium\">Hey {name},</prosody>\n",
        "        <break time=\"500ms\"/>\n",
        "        Just a quick reminder about your appointment on {date} at {time}.\n",
        "        <break time=\"500ms\"/>\n",
        "        Let us know if you need to reschedule.\n",
        "    </speak>\n",
        "    \"\"\"\n",
        "    return ssml_message.strip()\n",
        "\n",
        "# Generate and display reminders for each appointment\n",
        "\n",
        "print(\"🔊 Simulated Voice Prompts:\\n\")\n",
        "for appt in appointments:\n",
        "    print(generate_reminder(appt))\n",
        "    print(\"-\" * 60)\n",
        "\n",
        "print(\"\\n🗣️ SSML-Formatted Messages (for real TTS engines):\\n\")\n",
        "for appt in appointments:\n",
        "    print(generate_ssml_reminder(appt))\n",
        "    print(\"-\" * 60)\n"
      ],
      "metadata": {
        "colab": {
          "base_uri": "https://localhost:8080/"
        },
        "id": "FYmreMbNRQQs",
        "outputId": "ae8422ed-f349-481c-e5e5-85cfbff7684b"
      },
      "execution_count": null,
      "outputs": [
        {
          "output_type": "stream",
          "name": "stdout",
          "text": [
            "🔊 Simulated Voice Prompts:\n",
            "\n",
            "<friendly tone> Hey Riya, <pause> just a quick reminder about your appointment on 2025-04-20 at 10:00 AM. <pause> Let us know if you need to reschedule!\n",
            "------------------------------------------------------------\n",
            "<friendly tone> Hey Sam, <pause> just a quick reminder about your appointment on 2025-04-21 at 2:30 PM. <pause> Let us know if you need to reschedule!\n",
            "------------------------------------------------------------\n",
            "<friendly tone> Hey Aisha, <pause> just a quick reminder about your appointment on 2025-04-22 at 4:00 PM. <pause> Let us know if you need to reschedule!\n",
            "------------------------------------------------------------\n",
            "\n",
            "🗣️ SSML-Formatted Messages (for real TTS engines):\n",
            "\n",
            "<speak>\n",
            "        <prosody rate=\"medium\">Hey Riya,</prosody>\n",
            "        <break time=\"500ms\"/>\n",
            "        Just a quick reminder about your appointment on 2025-04-20 at 10:00 AM.\n",
            "        <break time=\"500ms\"/>\n",
            "        Let us know if you need to reschedule.\n",
            "    </speak>\n",
            "------------------------------------------------------------\n",
            "<speak>\n",
            "        <prosody rate=\"medium\">Hey Sam,</prosody>\n",
            "        <break time=\"500ms\"/>\n",
            "        Just a quick reminder about your appointment on 2025-04-21 at 2:30 PM.\n",
            "        <break time=\"500ms\"/>\n",
            "        Let us know if you need to reschedule.\n",
            "    </speak>\n",
            "------------------------------------------------------------\n",
            "<speak>\n",
            "        <prosody rate=\"medium\">Hey Aisha,</prosody>\n",
            "        <break time=\"500ms\"/>\n",
            "        Just a quick reminder about your appointment on 2025-04-22 at 4:00 PM.\n",
            "        <break time=\"500ms\"/>\n",
            "        Let us know if you need to reschedule.\n",
            "    </speak>\n",
            "------------------------------------------------------------\n"
          ]
        }
      ]
    },
    {
      "cell_type": "code",
      "source": [],
      "metadata": {
        "id": "0B-bGfcAS0cl"
      },
      "execution_count": null,
      "outputs": []
    }
  ]
}